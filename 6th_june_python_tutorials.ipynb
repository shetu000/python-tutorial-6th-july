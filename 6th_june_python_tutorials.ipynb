{
 "cells": [
  {
   "cell_type": "code",
   "execution_count": 1,
   "metadata": {},
   "outputs": [
    {
     "name": "stdout",
     "output_type": "stream",
     "text": [
      "10 apple cost $5.90\n"
     ]
    }
   ],
   "source": [
    "1.#parameters and arguments.\n",
    "def f10(qty,item,price):\n",
    "    print(f'{qty} {item} cost ${price:.2f}')\n",
    "f10(10,'apple',5.898)"
   ]
  },
  {
   "cell_type": "code",
   "execution_count": 2,
   "metadata": {},
   "outputs": [
    {
     "name": "stdout",
     "output_type": "stream",
     "text": [
      "banana 78 cost $6.00\n"
     ]
    }
   ],
   "source": [
    "f10('banana',78,6) #in case of this qty=banana, item=78 and price=6"
   ]
  },
  {
   "cell_type": "code",
   "execution_count": 3,
   "metadata": {},
   "outputs": [
    {
     "name": "stdout",
     "output_type": "stream",
     "text": [
      "70 cherry cost $90.00\n"
     ]
    }
   ],
   "source": [
    "2.#keyword arguments\n",
    "def f10(qty=70,item='cherry',price=90):\n",
    "    print(f'{qty} {item} cost ${price:.2f}')\n",
    "\n",
    "f10()\n",
    "#any argument has a default value should be in last .."
   ]
  },
  {
   "cell_type": "code",
   "execution_count": 2,
   "metadata": {},
   "outputs": [
    {
     "name": "stdout",
     "output_type": "stream",
     "text": [
      "5 cherry cost $90.00\n"
     ]
    }
   ],
   "source": [
    "#keyword arguments\n",
    "def f10(qty,item='cherry',price=90):\n",
    "    print(f'{qty} {item} cost ${price:.2f}')\n",
    "\n",
    "f10(5)\n",
    "#any argument has a default value should be in last .."
   ]
  },
  {
   "cell_type": "code",
   "execution_count": 9,
   "metadata": {},
   "outputs": [
    {
     "name": "stdout",
     "output_type": "stream",
     "text": [
      "100apple cost $2.00\n",
      "100apple cost $2.00\n",
      "100apple cost $2.00\n"
     ]
    }
   ],
   "source": [
    "#order does not matter if we set the default value as argument, it will show same output\n",
    "f10(qty=100,item='apple',price=2)\n",
    "f10(price=2,qty=100,item='apple')\n",
    "f10(item='apple',qty=100,price=2)\n"
   ]
  },
  {
   "cell_type": "code",
   "execution_count": null,
   "metadata": {},
   "outputs": [],
   "source": [
    "\n",
    "'''Funtions:\n",
    "   1. positional arguments: fn(qty,item,price)\n",
    "        order of the parameter matters\n",
    "        the number of parametermatters\n",
    "   2. keyword argument: fn(qty=10,item=apple,pice=50)\n",
    "        order does not matters\n",
    "        but number of parameters matters \n",
    "    3.Default parameters:fn(qty=1,item='apple',price=6.8)\n",
    "        ommit certain parameter. default values will be used for ommited parameters\n",
    "        default param value is defined only once when the function is defined\n",
    "        parameters with default value mst appear after non default value parameters[wrong:fn(qty=1,item,price) because qty=1 will be in last]\n",
    "        ex: fn()\n",
    "            fn(10)\n",
    "            fn(qty=10)\n",
    "            f10(qty=100,item='apple')\n",
    "            f10(price=2,qty=100,item='apple')\n",
    "            f10(item='apple',qty=100,price=2)'''\n",
    "       "
   ]
  },
  {
   "cell_type": "code",
   "execution_count": null,
   "metadata": {},
   "outputs": [],
   "source": [
    "#######################################################################################################################"
   ]
  },
  {
   "cell_type": "code",
   "execution_count": null,
   "metadata": {},
   "outputs": [],
   "source": [
    "3.#function is of two type\n",
    "\n",
    "'''1.call by value\n",
    "   2. call by reference......[list,tuple,set all comes under call by refernce]'''"
   ]
  },
  {
   "cell_type": "code",
   "execution_count": 24,
   "metadata": {},
   "outputs": [
    {
     "name": "stdout",
     "output_type": "stream",
     "text": [
      "['new value']\n"
     ]
    }
   ],
   "source": [
    "#list(call by refernce)\n",
    "\n",
    "def f11(myList=[]):\n",
    "    myList.append(\"new value\")\n",
    "    print(myList)\n",
    "\n",
    "f11()\n",
    "#f11(['foo','bye'])"
   ]
  },
  {
   "cell_type": "code",
   "execution_count": 25,
   "metadata": {},
   "outputs": [
    {
     "name": "stdout",
     "output_type": "stream",
     "text": [
      "['new value', 'new value']\n"
     ]
    }
   ],
   "source": [
    "f11() #output ['new value', 'new value']-> comes twice because it is a reference type so it remembers the previous value and keeps adding while we again run it"
   ]
  },
  {
   "cell_type": "code",
   "execution_count": 23,
   "metadata": {},
   "outputs": [
    {
     "name": "stdout",
     "output_type": "stream",
     "text": [
      "['foo', 'bye', 'new value']\n"
     ]
    }
   ],
   "source": [
    "#list(call by refernce)\n",
    "\n",
    "def f11(myList):\n",
    "    myList.append(\"new value\")\n",
    "    print(myList)\n",
    "\n",
    "f11(['foo','bye'])"
   ]
  },
  {
   "cell_type": "code",
   "execution_count": 29,
   "metadata": {},
   "outputs": [
    {
     "name": "stdout",
     "output_type": "stream",
     "text": [
      "['foo', 'bye', 'new value']\n"
     ]
    }
   ],
   "source": [
    "def f11(myList=['foo','bye']):\n",
    "    myList.append(\"new value\")\n",
    "    print(myList)\n",
    "\n",
    "f11() #output:['foo', 'bye', 'new value']"
   ]
  },
  {
   "cell_type": "code",
   "execution_count": 30,
   "metadata": {},
   "outputs": [
    {
     "name": "stdout",
     "output_type": "stream",
     "text": [
      "['foo', 'bye', 'new value', 'new value']\n"
     ]
    }
   ],
   "source": [
    "f11() #output :['foo', 'bye', 'new value', 'new value']"
   ]
  },
  {
   "cell_type": "code",
   "execution_count": 21,
   "metadata": {},
   "outputs": [
    {
     "name": "stdout",
     "output_type": "stream",
     "text": [
      "['']\n"
     ]
    }
   ],
   "source": [
    "def f11(list1=[]):\n",
    "    list1.append(\"\")#because we have to pass atleast one parameter to append otherwise it will throw error\n",
    "    print(list1)\n",
    "f11()"
   ]
  },
  {
   "cell_type": "code",
   "execution_count": 34,
   "metadata": {},
   "outputs": [
    {
     "name": "stdout",
     "output_type": "stream",
     "text": [
      "140713848252544\n",
      "['new value']\n"
     ]
    }
   ],
   "source": [
    "#basic program on list\n",
    "def f11(myList=None):    # None is actuallu Null value\n",
    "    print(id(myList))   #id function is used for getting the adress location \n",
    "    if(myList is None): #when we pass a list it will pass the reference /address of the new list\n",
    "        myList=[]\n",
    "    myList.append('new value')\n",
    "    print(myList)\n",
    "f11()"
   ]
  },
  {
   "cell_type": "code",
   "execution_count": null,
   "metadata": {},
   "outputs": [],
   "source": [
    "############################################################################################################################"
   ]
  },
  {
   "cell_type": "code",
   "execution_count": 4,
   "metadata": {},
   "outputs": [
    {
     "name": "stdout",
     "output_type": "stream",
     "text": [
      "x before: 40\n",
      "x after: foo\n",
      "40\n",
      "x before: {'foo': 1, 'bar': 2}\n",
      "x after: foo\n",
      "{'foo': 1, 'bar': 2}\n",
      "x before: bar\n",
      "x after: foo\n",
      "bar\n",
      "x before: ['foo', 'bar']\n",
      "x after: foo\n",
      "['foo', 'bar']\n"
     ]
    }
   ],
   "source": [
    "def fnfoo(x):\n",
    "    print(\"x before:\",x)\n",
    "    x='foo'\n",
    "    print(\"x after:\",x)\n",
    "for i in (40,dict(foo=1,bar=2),'bar',['foo','bar']):\n",
    "    fnfoo(i)\n",
    "    print(i)"
   ]
  },
  {
   "cell_type": "code",
   "execution_count": 7,
   "metadata": {},
   "outputs": [
    {
     "name": "stdout",
     "output_type": "stream",
     "text": [
      "x before: ['go', 'bye']\n",
      "x after: ['go', 'bye']\n",
      "['go', 'bye']\n"
     ]
    }
   ],
   "source": [
    "def fnfoo(x):\n",
    "    print(\"x before:\",x)\n",
    "    x[0]='---------'\n",
    "    print(\"x after:\",x)\n",
    "myList=['go','bye']\n",
    "fnfoo(myList)\n",
    "print(myList)"
   ]
  },
  {
   "cell_type": "code",
   "execution_count": 8,
   "metadata": {},
   "outputs": [
    {
     "name": "stdout",
     "output_type": "stream",
     "text": [
      "x before: {'key1': 20, 'key2': 89}\n",
      "x after: {'key1': 500, 'key2': 89}\n",
      "{'key1': 500, 'key2': 89}\n"
     ]
    }
   ],
   "source": [
    "def fnfoo(x):\n",
    "    print(\"x before:\",x)\n",
    "    x['key1']=500\n",
    "    print(\"x after:\",x)\n",
    "myDict={'key1': 20, 'key2':89}\n",
    "fnfoo(myDict)\n",
    "print(myDict)"
   ]
  },
  {
   "cell_type": "code",
   "execution_count": null,
   "metadata": {},
   "outputs": [],
   "source": [
    "#########################################################################################################################"
   ]
  },
  {
   "cell_type": "code",
   "execution_count": null,
   "metadata": {},
   "outputs": [],
   "source": [
    "#difference between compiler and interpreter\n",
    "\n",
    "'''\n",
    "Interpreter:\n",
    "    it avaluates and executes one statement/line at a time\n",
    "\n",
    "Compiler:\n",
    "    will check full code base\n",
    "    check for syntemx errors\n",
    "    check for many things \n",
    "    only everythings is fine , creates a binary output(executable)\n",
    "'''"
   ]
  },
  {
   "cell_type": "code",
   "execution_count": null,
   "metadata": {},
   "outputs": [],
   "source": [
    "#########################################################################################################################"
   ]
  },
  {
   "cell_type": "code",
   "execution_count": null,
   "metadata": {},
   "outputs": [],
   "source": [
    "#Lambda Function\n",
    "lambda x: x+1    \n",
    "\n",
    "#same as\n",
    "\n",
    "def fn(x):\n",
    "    return x+1"
   ]
  },
  {
   "cell_type": "code",
   "execution_count": 9,
   "metadata": {},
   "outputs": [
    {
     "data": {
      "text/plain": [
       "20"
      ]
     },
     "execution_count": 9,
     "metadata": {},
     "output_type": "execute_result"
    }
   ],
   "source": [
    "fn=lambda x:x+x\n",
    "fn(10)"
   ]
  },
  {
   "cell_type": "code",
   "execution_count": 10,
   "metadata": {},
   "outputs": [
    {
     "data": {
      "text/plain": [
       "145"
      ]
     },
     "execution_count": 10,
     "metadata": {},
     "output_type": "execute_result"
    }
   ],
   "source": [
    "var=lambda x,y:x+y\n",
    "var(56,89)"
   ]
  },
  {
   "cell_type": "code",
   "execution_count": 11,
   "metadata": {},
   "outputs": [
    {
     "data": {
      "text/plain": [
       "11"
      ]
     },
     "execution_count": 11,
     "metadata": {},
     "output_type": "execute_result"
    }
   ],
   "source": [
    "#another way of writing lambda and passing argument is this\n",
    "(lambda x:x+1)(10)"
   ]
  },
  {
   "cell_type": "code",
   "execution_count": 13,
   "metadata": {},
   "outputs": [
    {
     "data": {
      "text/plain": [
       "<function __main__.<lambda>(x)>"
      ]
     },
     "execution_count": 13,
     "metadata": {},
     "output_type": "execute_result"
    }
   ],
   "source": [
    "#another way of writing lambda and passing argument is this\n",
    "lambda x:x+x\n"
   ]
  },
  {
   "cell_type": "code",
   "execution_count": 14,
   "metadata": {},
   "outputs": [
    {
     "data": {
      "text/plain": [
       "20"
      ]
     },
     "execution_count": 14,
     "metadata": {},
     "output_type": "execute_result"
    }
   ],
   "source": [
    "_(10)"
   ]
  },
  {
   "cell_type": "code",
   "execution_count": null,
   "metadata": {},
   "outputs": [],
   "source": [
    "#########################################################################################################################3"
   ]
  },
  {
   "cell_type": "code",
   "execution_count": null,
   "metadata": {},
   "outputs": [],
   "source": [
    "1.#you are given some numbers(blocks).There can be 'n' blocks.\n",
    "'''\n",
    "Input from user:\n",
    "[5,4,2,1,4,5]\n",
    "stack these blocks one over the other.\n",
    "starting with the left most and picking either from the left most or top right most\n",
    "If is then print 'possible' otherwise 'Impossible'\n",
    "\n",
    "\n",
    "Block-1 (5)and Block-2(5)\n",
    "Block-1 can go over block-2 only if width(block2)>=width(block1)\n",
    "\n",
    "output:[5,5,4,4,2,1]\n",
    "\n",
    "Another Example\n",
    "Sample input:[10,6,4,2,5,3]\n",
    "at fiest    Block-1=10  and   Block-2=3\n",
    "--------Approach to solve--------------\n",
    "Block-2>Block-1 ? No so\n",
    "Block-2=10\n",
    "Block-1=5\n",
    "Block-2>Block-1 ? No so\n",
    "Block-2=10\n",
    "Block-1=2\n",
    "Block-2>Block-1 ? No so\n",
    "Block-2=10\n",
    "Block-1=4\n",
    "Block-2>Block-1 ? No so\n",
    "Impossible\n",
    "\n",
    "'''"
   ]
  }
 ],
 "metadata": {
  "kernelspec": {
   "display_name": "Python 3",
   "language": "python",
   "name": "python3"
  },
  "language_info": {
   "codemirror_mode": {
    "name": "ipython",
    "version": 3
   },
   "file_extension": ".py",
   "mimetype": "text/x-python",
   "name": "python",
   "nbconvert_exporter": "python",
   "pygments_lexer": "ipython3",
   "version": "3.8.3"
  }
 },
 "nbformat": 4,
 "nbformat_minor": 4
}
